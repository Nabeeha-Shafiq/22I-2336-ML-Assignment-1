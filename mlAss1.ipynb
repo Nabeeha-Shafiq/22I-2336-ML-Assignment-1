{
  "nbformat": 4,
  "nbformat_minor": 0,
  "metadata": {
    "colab": {
      "provenance": [],
      "include_colab_link": true
    },
    "kernelspec": {
      "name": "python3",
      "display_name": "Python 3"
    },
    "language_info": {
      "name": "python"
    }
  },
  "cells": [
    {
      "cell_type": "markdown",
      "metadata": {
        "id": "view-in-github",
        "colab_type": "text"
      },
      "source": [
        "<a href=\"https://colab.research.google.com/github/Nabeeha-Shafiq/22I-2336-ML-Assignment-1/blob/main/mlAss1.ipynb\" target=\"_parent\"><img src=\"https://colab.research.google.com/assets/colab-badge.svg\" alt=\"Open In Colab\"/></a>"
      ]
    },
    {
      "cell_type": "code",
      "source": [
        "from google.colab import drive\n",
        "drive.mount('/content/drive', force_remount=True)\n",
        "#drive.mount('/content/drive')\n",
        "\n",
        "# Accessing the file\n",
        "#path_to_file = 'https://drive.google.com/file/d/1ulOZ6iXVR2UGwAxbn_ylMHu9FxlAZ6Jx/view?usp=sharing'\n",
        "path_to_file='https://drive.google.com/uc?export=download&id=1ulOZ6iXVR2UGwAxbn_ylMHu9FxlAZ6Jx'\n",
        "import pandas as pd\n",
        "# Try reading the first 10 lines to inspect the file format\n",
        "df = pd.read_csv(path_to_file)\n",
        "\n",
        "df.info()\n"
      ],
      "metadata": {
        "colab": {
          "base_uri": "https://localhost:8080/"
        },
        "id": "b2kVVOeXigWD",
        "outputId": "b6779821-f4b4-4aff-ef1f-ecef417ab428"
      },
      "execution_count": null,
      "outputs": [
        {
          "output_type": "stream",
          "name": "stdout",
          "text": [
            "Mounted at /content/drive\n",
            "<class 'pandas.core.frame.DataFrame'>\n",
            "RangeIndex: 0 entries\n",
            "Data columns (total 3 columns):\n",
            " #   Column                                                                                                                                                                                                                                                                                                                                                                                                                                                                                                                                                                                                                                                                                                                                                                                                                                                                                                                                                                                                                                                                                                                                                                                                                                                                                                                                                                                                                                                                                                                                                                                                                                                                                                                                                                                                                                            Non-Null Count  Dtype \n",
            "---  ------                                                                                                                                                                                                                                                                                                                                                                                                                                                                                                                                                                                                                                                                                                                                                                                                                                                                                                                                                                                                                                                                                                                                                                                                                                                                                                                                                                                                                                                                                                                                                                                                                                                                                                                                                                                                                                            --------------  ----- \n",
            " 0   <!DOCTYPE html><html><head><title>Google Drive - Virus scan warning</title><meta http-equiv=\"content-type\" content=\"text/html; charset=utf-8\"/><style nonce=\"G4cXaVmdhGeVKTP9GMI-mg\">.goog-link-button{position:relative;color:#15c;text-decoration:underline;cursor:pointer}.goog-link-button-disabled{color:#ccc;text-decoration:none;cursor:default}body{color:#222;font:normal 13px/1.4 arial                                                                                                                                                                                                                                                                                                                                                                                                                                                                                                                                                                                                                                                                                                                                                                                                                                                                                                                                                                                                                                                                                                                                                                                                                                                                                                                                                                                                                                                 0 non-null      object\n",
            " 1   sans-serif;margin:0}.grecaptcha-badge{visibility:hidden}.uc-main{padding-top:50px;text-align:center}#uc-dl-icon{display:inline-block;margin-top:16px;padding-right:1em;vertical-align:top}#uc-text{display:inline-block;max-width:68ex;text-align:left}.uc-error-caption                                                                                                                                                                                                                                                                                                                                                                                                                                                                                                                                                                                                                                                                                                                                                                                                                                                                                                                                                                                                                                                                                                                                                                                                                                                                                                                                                                                                                                                                                                                                                                          0 non-null      object\n",
            " 2   .uc-warning-caption{color:#222;font-size:16px}#uc-download-link{text-decoration:none}.uc-name-size a{color:#15c;text-decoration:none}.uc-name-size a:visited{color:#61c;text-decoration:none}.uc-name-size a:active{color:#d14836;text-decoration:none}.uc-footer{color:#777;font-size:11px;padding-bottom:5ex;padding-top:5ex;text-align:center}.uc-footer a{color:#15c}.uc-footer a:visited{color:#61c}.uc-footer a:active{color:#d14836}.uc-footer-divider{color:#ccc;width:100%}.goog-inline-block{position:relative;display:-moz-inline-box;display:inline-block}* html .goog-inline-block{display:inline}*:first-child+html .goog-inline-block{display:inline}sentinel{}</style><link rel=\"icon\" href=\"//ssl.gstatic.com/docs/doclist/images/drive_2022q3_32dp.png\"/></head><body><div class=\"uc-main\"><div id=\"uc-dl-icon\" class=\"image-container\"><div class=\"drive-sprite-aux-download-file\"></div></div><div id=\"uc-text\"><p class=\"uc-warning-caption\">Google Drive can't scan this file for viruses.</p><p class=\"uc-warning-subcaption\"><span class=\"uc-name-size\"><a href=\"/open?id=1ulOZ6iXVR2UGwAxbn_ylMHu9FxlAZ6Jx\">flight_data.csv</a> (172M)</span> is too large for Google to scan for viruses. Would you still like to download this file?</p><form id=\"download-form\" action=\"https://drive.usercontent.google.com/download\" method=\"get\"><input type=\"submit\" id=\"uc-download-link\" class=\"goog-inline-block jfk-button jfk-button-action\" value=\"Download anyway\"/><input type=\"hidden\" name=\"id\" value=\"1ulOZ6iXVR2UGwAxbn_ylMHu9FxlAZ6Jx\"><input type=\"hidden\" name=\"export\" value=\"download\"><input type=\"hidden\" name=\"confirm\" value=\"t\"><input type=\"hidden\" name=\"uuid\" value=\"40ad84f8-cfc5-4463-9485-4afe8740c1a1\"></form></div></div><div class=\"uc-footer\"><hr class=\"uc-footer-divider\"></div></body></html>  0 non-null      object\n",
            "dtypes: object(3)\n",
            "memory usage: 132.0+ bytes\n"
          ]
        }
      ]
    },
    {
      "cell_type": "code",
      "source": [
        "from pydrive.auth import GoogleAuth\n",
        "from pydrive.drive import GoogleDrive\n",
        "from google.colab import auth\n",
        "from oauth2client.client import GoogleCredentials\n",
        "\n",
        "# Authenticate and create the PyDrive client\n",
        "auth.authenticate_user()\n",
        "gauth = GoogleAuth()\n",
        "gauth.credentials = GoogleCredentials.get_application_default()\n",
        "drive = GoogleDrive(gauth)\n",
        "\n",
        "# Download the file\n",
        "file_id = '1ulOZ6iXVR2UGwAxbn_ylMHu9FxlAZ6Jx'\n",
        "downloaded = drive.CreateFile({'id': file_id})\n",
        "downloaded.GetContentFile('flight_data.csv')\n",
        "\n",
        "# Now use pandas to read the file\n",
        "import pandas as pd\n",
        "df = pd.read_csv('flight_data.csv')\n",
        "print(df.info())\n"
      ],
      "metadata": {
        "colab": {
          "base_uri": "https://localhost:8080/"
        },
        "id": "fpvSOFwKGfp_",
        "outputId": "21651a67-f23d-4c17-ce9f-92aa4d651e0c"
      },
      "execution_count": null,
      "outputs": [
        {
          "output_type": "stream",
          "name": "stderr",
          "text": [
            "WARNING:root:pydrive is deprecated and no longer maintained. We recommend that you migrate your projects to pydrive2, the maintained fork of pydrive\n"
          ]
        },
        {
          "output_type": "stream",
          "name": "stdout",
          "text": [
            "<class 'pandas.core.frame.DataFrame'>\n",
            "RangeIndex: 1000249 entries, 0 to 1000248\n",
            "Data columns (total 18 columns):\n",
            " #   Column                           Non-Null Count    Dtype  \n",
            "---  ------                           --------------    -----  \n",
            " 0   from_airport_code                998866 non-null   object \n",
            " 1   from_country                     998866 non-null   object \n",
            " 2   dest_airport_code                998866 non-null   object \n",
            " 3   dest_country                     998866 non-null   object \n",
            " 4   aircraft_type                    984952 non-null   object \n",
            " 5   airline_number                   998866 non-null   object \n",
            " 6   airline_name                     1000249 non-null  object \n",
            " 7   flight_number                    1000249 non-null  object \n",
            " 8   departure_time                   1000249 non-null  object \n",
            " 9   arrival_time                     1000249 non-null  object \n",
            " 10  duration                         1000249 non-null  int64  \n",
            " 11  stops                            1000249 non-null  int64  \n",
            " 12  price                            998896 non-null   float64\n",
            " 13  currency                         1000249 non-null  object \n",
            " 14  co2_emissions                    995375 non-null   float64\n",
            " 15  avg_co2_emission_for_this_route  911847 non-null   float64\n",
            " 16  co2_percentage                   911847 non-null   object \n",
            " 17  scan_date                        1000249 non-null  object \n",
            "dtypes: float64(3), int64(2), object(13)\n",
            "memory usage: 137.4+ MB\n",
            "None\n"
          ]
        }
      ]
    }
  ]
}